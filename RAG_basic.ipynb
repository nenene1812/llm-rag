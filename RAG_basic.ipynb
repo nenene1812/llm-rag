{
 "cells": [
  {
   "cell_type": "code",
   "execution_count": 13,
   "id": "61654869-bbbe-4bfa-93f2-b2942b46a3ed",
   "metadata": {},
   "outputs": [],
   "source": [
    "from openai import OpenAI\n",
    "import os"
   ]
  },
  {
   "cell_type": "code",
   "execution_count": 14,
   "id": "6ef5c7a2-0ea9-44da-a7a1-cd5b0a2b80be",
   "metadata": {},
   "outputs": [],
   "source": [
    "client = OpenAI()"
   ]
  },
  {
   "cell_type": "code",
   "execution_count": 15,
   "id": "8233977b-0bd8-4c15-907b-348108965a1f",
   "metadata": {},
   "outputs": [],
   "source": [
    "r = client.chat.completions.create(\n",
    "    model = 'gpt-4o',\n",
    "    messages = [\n",
    "        { \"role\":\"user\", \"content\":\"is it too late to join the course?\"}\n",
    "    ])\n"
   ]
  },
  {
   "cell_type": "code",
   "execution_count": 16,
   "id": "402d0b95-7fb1-4f79-b419-296771a5db2f",
   "metadata": {},
   "outputs": [
    {
     "data": {
      "text/plain": [
       "\"It depends on the specific course you're interested in joining. Different courses have different enrollment deadlines, and some may allow late registration or offer rolling admissions. Here are a few steps you can take to find out if you can still join:\\n\\n1. **Check the Course Website:** Look for enrollment deadlines or contact information for the course administrator.\\n2. **Contact the Instructor or Institution:** Reach out via email or phone to ask if there's still an opportunity to join the course.\\n3. **Review the Enrollment Policies:** Some institutions have policies for late registration, waitlists, or auditing a course.\\n4. **Consider Online Courses:** Many online platforms offer flexible start dates and self-paced courses.\\n\\nAct quickly to increase your chances of being able to enroll. Good luck!\""
      ]
     },
     "execution_count": 16,
     "metadata": {},
     "output_type": "execute_result"
    }
   ],
   "source": [
    "r.choices[0].message.content"
   ]
  },
  {
   "cell_type": "code",
   "execution_count": 11,
   "id": "9f9fcf41-2d0e-47b3-ab0c-e1b560a64afd",
   "metadata": {},
   "outputs": [
    {
     "name": "stdout",
     "output_type": "stream",
     "text": [
      "--2024-09-17 09:16:34--  https://raw.githubusercontent.com/alexeygrigorev/minsearch/main/minsearch.py\n",
      "Resolving raw.githubusercontent.com (raw.githubusercontent.com)... 185.199.110.133, 185.199.111.133, 185.199.108.133, ...\n",
      "Connecting to raw.githubusercontent.com (raw.githubusercontent.com)|185.199.110.133|:443... connected.\n",
      "HTTP request sent, awaiting response... 200 OK\n",
      "Length: 3832 (3.7K) [text/plain]\n",
      "Saving to: ‘minsearch.py.1’\n",
      "\n",
      "minsearch.py.1      100%[===================>]   3.74K  --.-KB/s    in 0.001s  \n",
      "\n",
      "2024-09-17 09:16:34 (7.26 MB/s) - ‘minsearch.py.1’ saved [3832/3832]\n",
      "\n"
     ]
    }
   ],
   "source": [
    "!wget https://raw.githubusercontent.com/alexeygrigorev/minsearch/main/minsearch.py"
   ]
  },
  {
   "cell_type": "code",
   "execution_count": 17,
   "id": "fad004e3-8ee9-4166-96ed-de16994b5b0c",
   "metadata": {},
   "outputs": [],
   "source": [
    "import minsearch"
   ]
  },
  {
   "cell_type": "code",
   "execution_count": 18,
   "id": "b93690f1",
   "metadata": {},
   "outputs": [],
   "source": [
    "import json"
   ]
  },
  {
   "cell_type": "code",
   "execution_count": 19,
   "id": "1ed0039f",
   "metadata": {},
   "outputs": [],
   "source": [
    "with open('documents.json','rt') as f_in:\n",
    "    docs_raw = json.load(f_in)"
   ]
  },
  {
   "cell_type": "code",
   "execution_count": null,
   "id": "687d6dba",
   "metadata": {},
   "outputs": [],
   "source": []
  }
 ],
 "metadata": {
  "kernelspec": {
   "display_name": "Python 3 (ipykernel)",
   "language": "python",
   "name": "python3"
  },
  "language_info": {
   "codemirror_mode": {
    "name": "ipython",
    "version": 3
   },
   "file_extension": ".py",
   "mimetype": "text/x-python",
   "name": "python",
   "nbconvert_exporter": "python",
   "pygments_lexer": "ipython3",
   "version": "3.12.1"
  }
 },
 "nbformat": 4,
 "nbformat_minor": 5
}
